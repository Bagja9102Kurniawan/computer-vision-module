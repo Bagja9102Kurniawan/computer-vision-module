{
 "cells": [
  {
   "cell_type": "markdown",
   "metadata": {},
   "source": [
    "# Lab_9 TCV3151 Computer Vision\n",
    "Bagja 9102 Kurniawan <br> **1211501345**"
   ]
  },
  {
   "cell_type": "code",
   "execution_count": 1,
   "metadata": {},
   "outputs": [
    {
     "name": "stdout",
     "output_type": "stream",
     "text": [
      "Collecting playsound==1.2.2\n",
      "  Downloading playsound-1.2.2-py2.py3-none-any.whl (6.0 kB)\n",
      "Installing collected packages: playsound\n",
      "Successfully installed playsound-1.2.2\n",
      "Requirement already satisfied: opencv-contrib-python in c:\\users\\einst\\appdata\\roaming\\python\\python38\\site-packages (4.5.4.58)\n",
      "Requirement already satisfied: numpy>=1.17.3 in c:\\users\\einst\\anaconda3\\lib\\site-packages (from opencv-contrib-python) (1.20.1)\n"
     ]
    }
   ],
   "source": [
    "!pip install playsound==1.2.2\n",
    "!pip install opencv-contrib-python"
   ]
  },
  {
   "cell_type": "markdown",
   "metadata": {},
   "source": [
    "## Intruder Detection for Surveillance System"
   ]
  },
  {
   "cell_type": "code",
   "execution_count": 5,
   "metadata": {},
   "outputs": [],
   "source": [
    "import cv2\n",
    "import numpy as np\n",
    "from playsound import playsound\n",
    " \n",
    "cap = cv2.VideoCapture('video.avi')\n",
    " \n",
    "# Check if camera opened successfully\n",
    "if (cap.isOpened()== False): \n",
    "    print('Error opening video stream or file')\n",
    "\n",
    "ret, current_frame = cap.read()\n",
    "previous_frame = current_frame\n",
    "\n",
    "flag = True\n",
    "while(cap.isOpened()):\n",
    "    if ret == True:\n",
    "        current_frame_gray = cv2.cvtColor(current_frame, cv2.COLOR_BGR2GRAY)\n",
    "        previous_frame_gray = cv2.cvtColor(previous_frame, cv2.COLOR_BGR2GRAY)\n",
    "        \n",
    "        # Find difference between previous and current frames\n",
    "        frame_diff = cv2.absdiff(current_frame_gray,previous_frame_gray)\n",
    "\n",
    "        if np.sum(frame_diff) < 500000:\n",
    "            cv2.imshow('Frame',current_frame)\n",
    "        else:\n",
    "            if flag:\n",
    "                playsound('somethingwrong.wav')\n",
    "                flag = False\n",
    "\n",
    "            cv2.putText(current_frame,'Intruder!!!', (20,120), \n",
    "                cv2.FONT_HERSHEY_SIMPLEX, 2, (0,0,255))\n",
    "            cv2.imshow('Frame',current_frame)\n",
    "            \n",
    "        # Press Q on keyboard to  exit\n",
    "        if cv2.waitKey(25) & 0xFF == ord('q'):\n",
    "            break\n",
    "        ret, current_frame = cap.read()\n",
    "    else: \n",
    "        break\n",
    " \n",
    "cap.release()"
   ]
  },
  {
   "cell_type": "markdown",
   "metadata": {},
   "source": [
    "## Another alternative: BackgroundSubtractorMOG2"
   ]
  },
  {
   "cell_type": "code",
   "execution_count": 3,
   "metadata": {},
   "outputs": [],
   "source": [
    "import numpy as np\n",
    "import cv2\n",
    "from playsound import playsound\n",
    "\n",
    "cap = cv2.VideoCapture('video.avi')\n",
    "\n",
    "kernel = cv2.getStructuringElement(cv2.MORPH_ELLIPSE,(3,3))\n",
    "fgbg = cv2.createBackgroundSubtractorMOG2()\n",
    "\n",
    "flag = True\n",
    "while(cap.isOpened()):\t\n",
    "\n",
    "    ret, frame = cap.read()\n",
    "    if ret == True:\n",
    "        fgmask = fgbg.apply(frame)\n",
    "        fgmask = cv2.morphologyEx(fgmask, cv2.MORPH_OPEN, kernel) \n",
    "        if np.sum(fgmask) < 500000:\n",
    "            cv2.imshow('frame',frame)\n",
    "        else:\n",
    "            if flag:\n",
    "                playsound('somethingwrong.wav')\n",
    "                flag = False\n",
    "\n",
    "            cv2.putText(frame,'Intruder!!!', (20,120), \n",
    "                cv2.FONT_HERSHEY_SIMPLEX, 2, (0,0,255))\n",
    "            cv2.imshow('frame',frame)\n",
    "        if cv2.waitKey(25) & 0xFF == ord('q'):\n",
    "            break\n",
    "    else:\n",
    "        break\n",
    "        \n",
    "cap.release()\n",
    "cv2.destroyAllWindows()\n"
   ]
  },
  {
   "cell_type": "code",
   "execution_count": null,
   "metadata": {},
   "outputs": [],
   "source": []
  }
 ],
 "metadata": {
  "kernelspec": {
   "display_name": "Python 3",
   "language": "python",
   "name": "python3"
  },
  "language_info": {
   "codemirror_mode": {
    "name": "ipython",
    "version": 3
   },
   "file_extension": ".py",
   "mimetype": "text/x-python",
   "name": "python",
   "nbconvert_exporter": "python",
   "pygments_lexer": "ipython3",
   "version": "3.8.8"
  }
 },
 "nbformat": 4,
 "nbformat_minor": 4
}
